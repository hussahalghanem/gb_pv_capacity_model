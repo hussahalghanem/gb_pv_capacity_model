{
 "cells": [
  {
   "cell_type": "markdown",
   "id": "7ee23cf4-35cc-43fc-9c6b-3a489ac1d6b5",
   "metadata": {},
   "source": [
    "The data is downloaded from: https://www.ons.gov.uk/economy/grossvalueaddedgva/datasets/nominalandrealregionalgrossvalueaddedbalancedbyindustry"
   ]
  },
  {
   "cell_type": "code",
   "execution_count": 1,
   "id": "986dfe5c-ce57-4bd3-80fd-9596408bdc83",
   "metadata": {},
   "outputs": [],
   "source": [
    "import pandas as pd\n",
    "from data_processing import process_gva_data, convert_nuts_itl, save_data"
   ]
  },
  {
   "attachments": {},
   "cell_type": "markdown",
   "id": "4e85d2a6-f052-48c1-adcc-249954ea5534",
   "metadata": {},
   "source": [
    "select Table 3c: ITL3 current price estimates, pounds million"
   ]
  },
  {
   "attachments": {},
   "cell_type": "markdown",
   "id": "a6a1e15e-1abd-4ab9-affe-263616d8f97e",
   "metadata": {},
   "source": [
    "\"\"These tables provide estimates of gross value added (GVA) derived by balancing the income and production approaches to measuring GVA. They show economic activity for ITL1, ITL2 and ITL3 regions of the United Kingdom as current price (nominal or value) and 'real' (chained volume) measures.\n",
    "\n",
    "These data are classified as National Statistics, according to the Code of Practice for official statistics.\n",
    "\n",
    "Also included are implied deflators obtained by dividing the value estimates by the volume estimates. Although these are not true regional price indices, owing to the use of national prices in the deflation of GVA(B) data, they do reflect regional variation in goods and services produced, and may therefore be of use in deflating other regional data.\"\""
   ]
  },
  {
   "cell_type": "code",
   "execution_count": 2,
   "id": "ddd4b90f-9ce3-4e6a-8d64-89e66865d420",
   "metadata": {},
   "outputs": [
    {
     "name": "stdout",
     "output_type": "stream",
     "text": [
      "Sheet names and indexes:\n",
      "Sheet Index: 0, Sheet Name: Information\n",
      "Sheet Index: 1, Sheet Name: Contents\n",
      "Sheet Index: 2, Sheet Name: Notes\n",
      "Sheet Index: 3, Sheet Name: Table 1a\n",
      "Sheet Index: 4, Sheet Name: Table 1b\n",
      "Sheet Index: 5, Sheet Name: Table 1c\n",
      "Sheet Index: 6, Sheet Name: Table 1d\n",
      "Sheet Index: 7, Sheet Name: Table 2a\n",
      "Sheet Index: 8, Sheet Name: Table 2b\n",
      "Sheet Index: 9, Sheet Name: Table 2c\n",
      "Sheet Index: 10, Sheet Name: Table 2d\n",
      "Sheet Index: 11, Sheet Name: Table 3a\n",
      "Sheet Index: 12, Sheet Name: Table 3b\n",
      "Sheet Index: 13, Sheet Name: Table 3c\n",
      "Sheet Index: 14, Sheet Name: Table 3d\n"
     ]
    }
   ],
   "source": [
    "# Path to FIT Excel file\n",
    "excel_file = r\"/gb_pv_capacity_model/data/20241128/raw/gva/regionalgrossvalueaddedbalancedbyindustryandallitlregions.xlsx\"\n",
    "\n",
    "# Read all sheets from the Excel file into a dictionary of DataFrames\n",
    "dfs = pd.read_excel(excel_file, sheet_name=None)\n",
    "\n",
    "# Print the sheet names and indexes\n",
    "print(\"Sheet names and indexes:\")\n",
    "for idx, sheet_name in enumerate(dfs.keys()):\n",
    "    print(f\"Sheet Index: {idx}, Sheet Name: {sheet_name}\")\n"
   ]
  },
  {
   "cell_type": "code",
   "execution_count": 3,
   "id": "0192374e-ccd0-4f69-9212-62e729dff6b5",
   "metadata": {},
   "outputs": [],
   "source": [
    "# Call to process and save specific SIC07 codes\n",
    "selected_codes = ['Total', 'A-E', 'AB (1-9)', 'C (10-33)', 'CA (10-12)',\n",
    "       'CB (13-15)', 'CC (16-18)', 'CD-CG (19-23)', 'CH (24-25)',\n",
    "       'CI-CJ (26-27)', 'CK-CL (28-30)', 'CM (31-33)', 'DE (35-39)',\n",
    "       'F (41-43)', 41, 42, 43, 'G-T', 'G (45-47)', 45, 46, 47,\n",
    "       'H (49-53)', '49-51', 52, 53, 'I (55-56)', 55, 56, 'J (58-63)',\n",
    "       '58-60', '61-63', 'K (64-66)', 64, '65-66', 'L (68)', '68IMP', 68,\n",
    "       'M (69-75)', 69, 70, 71, '72-73', 74, 75, 'N (77-82)', 77, '78-80',\n",
    "       81, 82, 'O (84)', 'P (85)', 'Q (86-88)', 86, 87, 88, 'R (90-93)',\n",
    "       '90-91', '92-93', 'S (94-96)', 94, 95, 96, 'T (97-98)']\n"
   ]
  },
  {
   "cell_type": "code",
   "execution_count": 4,
   "id": "8072521b-81f7-4a67-a430-870b09cce463",
   "metadata": {},
   "outputs": [
    {
     "data": {
      "text/html": [
       "<div>\n",
       "<style scoped>\n",
       "    .dataframe tbody tr th:only-of-type {\n",
       "        vertical-align: middle;\n",
       "    }\n",
       "\n",
       "    .dataframe tbody tr th {\n",
       "        vertical-align: top;\n",
       "    }\n",
       "\n",
       "    .dataframe thead th {\n",
       "        text-align: right;\n",
       "    }\n",
       "</style>\n",
       "<table border=\"1\" class=\"dataframe\">\n",
       "  <thead>\n",
       "    <tr style=\"text-align: right;\">\n",
       "      <th></th>\n",
       "      <th>nuts_cd</th>\n",
       "      <th>SIC07 code</th>\n",
       "      <th>SIC07 description</th>\n",
       "      <th>date</th>\n",
       "      <th>gva_pounds_million</th>\n",
       "    </tr>\n",
       "  </thead>\n",
       "  <tbody>\n",
       "    <tr>\n",
       "      <th>0</th>\n",
       "      <td>UKC11</td>\n",
       "      <td>Total</td>\n",
       "      <td>All industries</td>\n",
       "      <td>1998-12-31</td>\n",
       "      <td>3317</td>\n",
       "    </tr>\n",
       "    <tr>\n",
       "      <th>1</th>\n",
       "      <td>UKC11</td>\n",
       "      <td>A-E</td>\n",
       "      <td>Production sector</td>\n",
       "      <td>1998-12-31</td>\n",
       "      <td>1013</td>\n",
       "    </tr>\n",
       "    <tr>\n",
       "      <th>2</th>\n",
       "      <td>UKC11</td>\n",
       "      <td>AB (1-9)</td>\n",
       "      <td>Agriculture, forestry and fishing; mining and ...</td>\n",
       "      <td>1998-12-31</td>\n",
       "      <td>17</td>\n",
       "    </tr>\n",
       "    <tr>\n",
       "      <th>3</th>\n",
       "      <td>UKC11</td>\n",
       "      <td>C (10-33)</td>\n",
       "      <td>Manufacturing</td>\n",
       "      <td>1998-12-31</td>\n",
       "      <td>775</td>\n",
       "    </tr>\n",
       "    <tr>\n",
       "      <th>4</th>\n",
       "      <td>UKC11</td>\n",
       "      <td>CA (10-12)</td>\n",
       "      <td>Manufacture of food, beverages and tobacco</td>\n",
       "      <td>1998-12-31</td>\n",
       "      <td>102</td>\n",
       "    </tr>\n",
       "    <tr>\n",
       "      <th>...</th>\n",
       "      <td>...</td>\n",
       "      <td>...</td>\n",
       "      <td>...</td>\n",
       "      <td>...</td>\n",
       "      <td>...</td>\n",
       "    </tr>\n",
       "    <tr>\n",
       "      <th>286395</th>\n",
       "      <td>UKN0G</td>\n",
       "      <td>S (94-96)</td>\n",
       "      <td>Other service activities</td>\n",
       "      <td>2022-12-31</td>\n",
       "      <td>16</td>\n",
       "    </tr>\n",
       "    <tr>\n",
       "      <th>286396</th>\n",
       "      <td>UKN0G</td>\n",
       "      <td>94</td>\n",
       "      <td>Activities of membership organisations</td>\n",
       "      <td>2022-12-31</td>\n",
       "      <td>2</td>\n",
       "    </tr>\n",
       "    <tr>\n",
       "      <th>286397</th>\n",
       "      <td>UKN0G</td>\n",
       "      <td>95</td>\n",
       "      <td>Repair of computers, personal and household goods</td>\n",
       "      <td>2022-12-31</td>\n",
       "      <td>1</td>\n",
       "    </tr>\n",
       "    <tr>\n",
       "      <th>286398</th>\n",
       "      <td>UKN0G</td>\n",
       "      <td>96</td>\n",
       "      <td>Other personal service activities</td>\n",
       "      <td>2022-12-31</td>\n",
       "      <td>14</td>\n",
       "    </tr>\n",
       "    <tr>\n",
       "      <th>286399</th>\n",
       "      <td>UKN0G</td>\n",
       "      <td>T (97-98)</td>\n",
       "      <td>Activities of households</td>\n",
       "      <td>2022-12-31</td>\n",
       "      <td>3</td>\n",
       "    </tr>\n",
       "  </tbody>\n",
       "</table>\n",
       "<p>286400 rows × 5 columns</p>\n",
       "</div>"
      ],
      "text/plain": [
       "       nuts_cd  SIC07 code                                  SIC07 description  \\\n",
       "0        UKC11       Total                                     All industries   \n",
       "1        UKC11         A-E                                  Production sector   \n",
       "2        UKC11    AB (1-9)  Agriculture, forestry and fishing; mining and ...   \n",
       "3        UKC11   C (10-33)                                      Manufacturing   \n",
       "4        UKC11  CA (10-12)         Manufacture of food, beverages and tobacco   \n",
       "...        ...         ...                                                ...   \n",
       "286395   UKN0G   S (94-96)                           Other service activities   \n",
       "286396   UKN0G          94             Activities of membership organisations   \n",
       "286397   UKN0G          95  Repair of computers, personal and household goods   \n",
       "286398   UKN0G          96                  Other personal service activities   \n",
       "286399   UKN0G   T (97-98)                          Activities of households    \n",
       "\n",
       "             date  gva_pounds_million  \n",
       "0      1998-12-31                3317  \n",
       "1      1998-12-31                1013  \n",
       "2      1998-12-31                  17  \n",
       "3      1998-12-31                 775  \n",
       "4      1998-12-31                 102  \n",
       "...           ...                 ...  \n",
       "286395 2022-12-31                  16  \n",
       "286396 2022-12-31                   2  \n",
       "286397 2022-12-31                   1  \n",
       "286398 2022-12-31                  14  \n",
       "286399 2022-12-31                   3  \n",
       "\n",
       "[286400 rows x 5 columns]"
      ]
     },
     "execution_count": 4,
     "metadata": {},
     "output_type": "execute_result"
    }
   ],
   "source": [
    "gva = process_gva_data(excel_file, sheet_index=13, selected_sic07_codes=selected_codes, date=\"20241128\")\n",
    "gva"
   ]
  },
  {
   "cell_type": "code",
   "execution_count": 5,
   "id": "95ff0e29-1448-4d40-a048-e89e5a625ed8",
   "metadata": {},
   "outputs": [
    {
     "data": {
      "text/plain": [
       "array(['Total', 'A-E', 'AB (1-9)', 'C (10-33)', 'CA (10-12)',\n",
       "       'CB (13-15)', 'CC (16-18)', 'CD-CG (19-23)', 'CH (24-25)',\n",
       "       'CI-CJ (26-27)', 'CK-CL (28-30)', 'CM (31-33)', 'DE (35-39)',\n",
       "       'F (41-43)', 41, 42, 43, 'G-T', 'G (45-47)', 45, 46, 47,\n",
       "       'H (49-53)', '49-51', 52, 53, 'I (55-56)', 55, 56, 'J (58-63)',\n",
       "       '58-60', '61-63', 'K (64-66)', 64, '65-66', 'L (68)', '68IMP', 68,\n",
       "       'M (69-75)', 69, 70, 71, '72-73', 74, 75, 'N (77-82)', 77, '78-80',\n",
       "       81, 82, 'O (84)', 'P (85)', 'Q (86-88)', 86, 87, 88, 'R (90-93)',\n",
       "       '90-91', '92-93', 'S (94-96)', 94, 95, 96, 'T (97-98)'],\n",
       "      dtype=object)"
      ]
     },
     "execution_count": 5,
     "metadata": {},
     "output_type": "execute_result"
    }
   ],
   "source": [
    "# available codes\n",
    "unique_sic07_codes = gva['SIC07 code'].unique()\n",
    "unique_sic07_codes\n"
   ]
  },
  {
   "cell_type": "code",
   "execution_count": 6,
   "id": "403bcd4f-4849-48b7-bb29-f7fd1a386a89",
   "metadata": {},
   "outputs": [],
   "source": [
    "# # Split the DataFrame based on 'SIC07 code'\n",
    "# dfs_by_sic07 = {sic07: group_df for sic07, group_df in gva.groupby('SIC07 code')}\n",
    "\n",
    "# # # Example of accessing a specific DataFrame\n",
    "# # for sic07_code, group in dfs_by_sic07.items():\n",
    "# #     print(f\"DataFrame for SIC07 code '{sic07_code}':\")\n",
    "# #     print(group)\n",
    "# #     print(\"-\" * 10)"
   ]
  },
  {
   "cell_type": "code",
   "execution_count": 7,
   "id": "aff7d3ae-7596-457a-87b1-f9d8e60ccf1d",
   "metadata": {},
   "outputs": [],
   "source": [
    "# save to csv\n",
    "save_data({'gva':gva}, date=\"20241128\" )"
   ]
  },
  {
   "cell_type": "code",
   "execution_count": null,
   "id": "6f62f6ce-f419-4a40-b1a1-9fc085c29d00",
   "metadata": {},
   "outputs": [],
   "source": []
  },
  {
   "cell_type": "code",
   "execution_count": null,
   "id": "cabbafff-6059-4cbc-8ca9-1810583ed405",
   "metadata": {},
   "outputs": [],
   "source": []
  }
 ],
 "metadata": {
  "kernelspec": {
   "display_name": "Python 3 (ipykernel)",
   "language": "python",
   "name": "python3"
  },
  "language_info": {
   "codemirror_mode": {
    "name": "ipython",
    "version": 3
   },
   "file_extension": ".py",
   "mimetype": "text/x-python",
   "name": "python",
   "nbconvert_exporter": "python",
   "pygments_lexer": "ipython3",
   "version": "3.10.16"
  }
 },
 "nbformat": 4,
 "nbformat_minor": 5
}
